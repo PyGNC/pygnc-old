{
 "cells": [
  {
   "cell_type": "code",
   "execution_count": 1,
   "id": "57dab113",
   "metadata": {},
   "outputs": [],
   "source": [
    "import autograd.numpy as np\n",
    "\n",
    "from autograd import grad, jacobian\n",
    "\n",
    "from scipy.linalg import sqrtm"
   ]
  },
  {
   "cell_type": "code",
   "execution_count": 2,
   "id": "35fee36a",
   "metadata": {},
   "outputs": [],
   "source": [
    "import SREKF_Core"
   ]
  },
  {
   "cell_type": "code",
   "execution_count": 3,
   "id": "283064e3",
   "metadata": {},
   "outputs": [],
   "source": [
    "#radius of the Earth in meters\n",
    "R_EARTH = 6.3781363e6\n",
    "OMEGA_EARTH = 7.292115146706979e-5"
   ]
  },
  {
   "cell_type": "code",
   "execution_count": 4,
   "id": "8774a8ed",
   "metadata": {},
   "outputs": [],
   "source": [
    "#simulation timestep used\n",
    "h=1"
   ]
  },
  {
   "cell_type": "code",
   "execution_count": 5,
   "id": "d739c14d",
   "metadata": {},
   "outputs": [],
   "source": [
    "#Exponential fit model from SMAD data\n",
    "def atm_density(alt):\n",
    "    \n",
    "    atm_d = np.exp(-1.63481928e-2*alt) * np.exp(-2.00838711e1)\n",
    "    \n",
    "    return atm_d"
   ]
  },
  {
   "cell_type": "code",
   "execution_count": 6,
   "id": "0fec2877",
   "metadata": {},
   "outputs": [],
   "source": [
    "def measurement_function(x): \n",
    "    \n",
    "    C = np.hstack((np.eye(3), np.zeros((3,9))))\n",
    "    \n",
    "    #only return the position \n",
    "    measurement = C@x\n",
    "    \n",
    "    return measurement, C"
   ]
  },
  {
   "cell_type": "code",
   "execution_count": 8,
   "id": "ed230e99",
   "metadata": {},
   "outputs": [],
   "source": [
    "#checked with julia dynamics and they match\n",
    "def process_dynamics(x, h):\n",
    "    #position \n",
    "    q = x[0:3]\n",
    "    v = x[3:6]\n",
    "    a_d = x[6:9]\n",
    "    beta = x[9:12]\n",
    "    \n",
    "    #drag coefficient\n",
    "    cd = 2.0 \n",
    "    \n",
    "    #cross sectional area\n",
    "    A= 0.1\n",
    "    \n",
    "    omega_earth = np.array([0,0, OMEGA_EARTH])\n",
    "    \n",
    "    v_rel = v - np.cross(omega_earth, q)\n",
    "    \n",
    "    #get the altititude in km\n",
    "    alt = np.linalg.norm(q) - (R_EARTH*1e-3)\n",
    "    \n",
    "    #estimated rho\n",
    "    rho_est = atm_density(alt)\n",
    "    \n",
    "    #drag force\n",
    "    f_drag = -0.5*cd*(A)*rho_est*np.linalg.norm(v_rel)*v_rel\n",
    "    \n",
    "    μ = 3.986004418e14 #m3/s2\n",
    "    J2 = 1.08264e-3 \n",
    "    \n",
    "    a_2bp = (-μ*q)/(np.linalg.norm(q))**3\n",
    "    \n",
    "    Iz = np.array([0,0,1])\n",
    "    \n",
    "    a_J2 = ((3*μ*J2*R_EARTH**2)/(2*np.linalg.norm(q)**5))*((((5*np.dot(q, Iz)**2)/np.linalg.norm(q)**2)-1)*q - 2*np.dot(q,Iz)*Iz)   \n",
    "    \n",
    "    a = a_2bp + a_J2 + f_drag + a_d\n",
    "    \n",
    "    a_d_dot = -np.diag(beta)@a_d\n",
    "    \n",
    "    x_dot = np.concatenate([v, a, a_d_dot, np.zeros(3)])\n",
    "        \n",
    "    return x_dot"
   ]
  },
  {
   "cell_type": "code",
   "execution_count": 9,
   "id": "135c2ad0",
   "metadata": {},
   "outputs": [],
   "source": [
    "def RK4_process_dynamics(x, h): \n",
    "    \n",
    "    f1= process_dynamics(x, h) \n",
    "    f2 = process_dynamics(x+0.5*h*f1, h)\n",
    "    f3 = process_dynamics(x+0.5*h*f2, h)\n",
    "    f4 = process_dynamics(x+h*f3, h)\n",
    "    \n",
    "    xnext = x+(h/6.0)*(f1+2*f2+2*f3+f4)\n",
    "    \n",
    "    return xnext"
   ]
  },
  {
   "cell_type": "code",
   "execution_count": 10,
   "id": "9697a896",
   "metadata": {},
   "outputs": [],
   "source": [
    "a = np.array([1,2,3])\n",
    "b = np.array([2,3,4])\n",
    "\n",
    "c = np.hstack((a,b))"
   ]
  },
  {
   "cell_type": "code",
   "execution_count": 11,
   "id": "4c94fa19",
   "metadata": {},
   "outputs": [],
   "source": [
    "std_gps_measurement = 10\n",
    "std_velocity = 0.01"
   ]
  },
  {
   "cell_type": "code",
   "execution_count": 12,
   "id": "663f0f3b",
   "metadata": {},
   "outputs": [],
   "source": [
    "#original\n",
    "gps_noise = np.random.normal(size=3)*10/3\n",
    "velocity_noise = np.random.normal(size=3)*0.001 "
   ]
  },
  {
   "cell_type": "code",
   "execution_count": 14,
   "id": "2b2b93d8",
   "metadata": {},
   "outputs": [],
   "source": [
    "#Initialize the SREKF Core Class \n",
    "\n",
    "#true first pose plus some noise\n",
    "\n",
    "initial_state = np.array([-6.291285386249863e6+gps_noise[0], -1.66264810311861e6+gps_noise[1], -2.2161566541800327e6 + gps_noise[2], -2394.9708335284654 + velocity_noise[0], -540.1532693380549 + velocity_noise[1], 7206.151917789134 + velocity_noise[2], 0, 0, 0, 1e-3, 1e-3, 1e-3])\n",
    "initial_P = np.identity(12)*np.hstack((np.ones(3)*((std_gps_measurement)**2)/3, np.ones(3)*((std_velocity)**2)/3, np.ones(3)*5e-4**2, np.ones(3)*4e-4**2))\n",
    "initial_F = sqrtm(initial_P)"
   ]
  },
  {
   "cell_type": "code",
   "execution_count": 15,
   "id": "9f3342df",
   "metadata": {},
   "outputs": [],
   "source": [
    "#tuning parameters for the \n",
    "q_betas = 2e-9*np.ones(3) \n",
    "q_eps= 5.5e-11*np.ones(3)"
   ]
  },
  {
   "cell_type": "code",
   "execution_count": 16,
   "id": "ed7908f8",
   "metadata": {},
   "outputs": [],
   "source": [
    "R_measure = np.identity(3)*((std_gps_measurement)**2)/3"
   ]
  },
  {
   "cell_type": "code",
   "execution_count": 17,
   "id": "39667d5d",
   "metadata": {},
   "outputs": [],
   "source": [
    "ekf = SREKF_Core.EKFCore(initial_state, initial_F, RK4_process_dynamics, measurement_function, q_betas, q_eps, R_measure)"
   ]
  },
  {
   "cell_type": "code",
   "execution_count": 18,
   "id": "11dc694e",
   "metadata": {},
   "outputs": [],
   "source": [
    "h = 1 #using a timestep of 1"
   ]
  },
  {
   "cell_type": "code",
   "execution_count": 19,
   "id": "64311783",
   "metadata": {},
   "outputs": [],
   "source": [
    "#first measurement\n",
    "y = np.array([  -6.29366686958334e6,\n",
    " -1.6631941155051156e6,\n",
    " -2.208956584174462e6])"
   ]
  },
  {
   "cell_type": "code",
   "execution_count": 20,
   "id": "11c4c7a5",
   "metadata": {},
   "outputs": [
    {
     "name": "stdout",
     "output_type": "stream",
     "text": [
      "this is y:  [-6293666.86958334 -1663194.11550512 -2208956.58417446]\n",
      "this is y_predicted [-6293675.18937362 -1663191.61591346 -2208947.93965697]\n",
      "this is z:  [ 8.31979028 -2.49959166 -8.64451749]\n"
     ]
    }
   ],
   "source": [
    "#the measurement should be of the next time step (k+1)\n",
    "ekf.update(y, h)"
   ]
  }
 ],
 "metadata": {
  "@webio": {
   "lastCommId": null,
   "lastKernelId": null
  },
  "kernelspec": {
   "display_name": "Python 3",
   "language": "python",
   "name": "python3"
  },
  "language_info": {
   "codemirror_mode": {
    "name": "ipython",
    "version": 3
   },
   "file_extension": ".py",
   "mimetype": "text/x-python",
   "name": "python",
   "nbconvert_exporter": "python",
   "pygments_lexer": "ipython3",
   "version": "3.8.8"
  }
 },
 "nbformat": 4,
 "nbformat_minor": 5
}
